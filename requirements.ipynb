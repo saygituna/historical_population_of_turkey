{
 "cells": [
  {
   "cell_type": "code",
   "execution_count": null,
   "id": "3fb4ce21",
   "metadata": {},
   "outputs": [],
   "source": [
    "pip install os\n",
    "pip install pdfreader\n",
    "pip install regex\n",
    "pip install pandas\n",
    "pip install matplotlib\n",
    "pip install tk\n",
    "pip install Pillow"
   ]
  }
 ],
 "metadata": {
  "kernelspec": {
   "display_name": "Python 3 (ipykernel)",
   "language": "python",
   "name": "python3"
  },
  "language_info": {
   "codemirror_mode": {
    "name": "ipython",
    "version": 3
   },
   "file_extension": ".py",
   "mimetype": "text/x-python",
   "name": "python",
   "nbconvert_exporter": "python",
   "pygments_lexer": "ipython3",
   "version": "3.9.13"
  }
 },
 "nbformat": 4,
 "nbformat_minor": 5
}
